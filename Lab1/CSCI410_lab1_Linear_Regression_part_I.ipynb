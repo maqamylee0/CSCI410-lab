{
  "nbformat": 4,
  "nbformat_minor": 0,
  "metadata": {
    "colab": {
      "name": "CSCI410-lab1-Linear-Regression-part-I.ipynb",
      "provenance": [],
      "toc_visible": true,
      "include_colab_link": true
    },
    "kernelspec": {
      "name": "python3",
      "display_name": "Python 3"
    },
    "language_info": {
      "name": "python"
    }
  },
  "cells": [
    {
      "cell_type": "markdown",
      "metadata": {
        "id": "view-in-github",
        "colab_type": "text"
      },
      "source": [
        "<a href=\"https://colab.research.google.com/github/maqamylee0/CSCI410-lab/blob/master/Lab1/CSCI410_lab1_Linear_Regression_part_I.ipynb\" target=\"_parent\"><img src=\"https://colab.research.google.com/assets/colab-badge.svg\" alt=\"Open In Colab\"/></a>"
      ]
    },
    {
      "cell_type": "markdown",
      "metadata": {
        "id": "lXHKKZGLvvL5"
      },
      "source": [
        "<table align=\"center\">\n",
        "  <td align=\"center\"><a target=\"_blank\" href=\"https://edu.epfl.ch/coursebook/en/fundamentals-in-statistical-pattern-recognition-EE-612\">\n",
        "        <img src=\"https://www.idiap.ch/en/about/files/idiap-logo-e-bleu-noir-pantone.png\" style=\"padding-bottom:5px;\" width=\"100\" height=\"30\"/>\n",
        "      Visit the EPFL course page</a></td>\n",
        "  <td align=\"center\"><a target=\"_blank\" href=\"https://www.usal.edu.lb/\">\n",
        "        <img src=\"https://encrypted-tbn0.gstatic.com/images?q=tbn:ANd9GcTxzelk0TseYtdpMaTooDotsxARzYBB_ukJU9KAccb1tST55RDdd_4CLETiNG_qk3fDSRM&usqp=CAU\" style=\"padding-bottom:5px;\" width=\"75\" height=\"75\"/>\n",
        "      Visit the USAL page</a></td>\n",
        "\n",
        "  <td align=\"center\"><a target=\"_blank\" href=\"https://github.com/akomaty/CSCI410-lab.git\">\n",
        "        <img src=\"https://i.ibb.co/xfJbPmL/github.png\"  height=\"70px\" style=\"padding-bottom:5px;\"  />View Source on GitHub</a></td>\n",
        "</table>\n",
        "\n",
        "# Copyright Information"
      ]
    },
    {
      "cell_type": "code",
      "metadata": {
        "id": "zxVj_bhpvwRp",
        "cellView": "form"
      },
      "source": [
        "#@title\n",
        "# Copyright 2021 - All Rights Reserved.\n",
        "# Idiap Research Institute - Ecole Polytechnique Fédérale de Lausanne EPFL\n",
        "# Tiago de Freitas Pereira https://www.idiap.ch/~tpereira/\n",
        "# André Anjos https://andreanjos.org/\n",
        "# Sébastien Marcel https://www.idiap.ch/~marcel/professional/Welcome.html\n",
        "# Ali Komaty - CSCI410-University of Sciences and Arts in Lebanon - USAL.\n",
        "# © FSPR: Fundamentals in Statistical Pattern Recognition\n",
        "# https://www.idiap.ch/~marcel/professional/EPFL_FSPR_2019.html\n",
        "# © USAL CSCI410: Introduction to Machine Learning"
      ],
      "execution_count": 193,
      "outputs": []
    },
    {
      "cell_type": "markdown",
      "metadata": {
        "id": "yw8WJ6xcrukw"
      },
      "source": [
        "# Lab 1: Univariate linear regression using an unvectorized form and gradient descent.\n",
        "In this lab, you are going to implement the Univariate linear regression from scratch using an (unvectorized) form and gradient descent. Walk through the lab and read the explanation carefully. You will encounter ***TODO*** blocks, follow the instructions to fill them correctly.\n"
      ]
    },
    {
      "cell_type": "markdown",
      "metadata": {
        "id": "e7hAlz1zLCiB"
      },
      "source": [
        "## Getting started: Loading the database"
      ]
    },
    {
      "cell_type": "markdown",
      "metadata": {
        "id": "XN6twBIXlN3h"
      },
      "source": [
        "First we need to import the modules that we are going to use during this lab:"
      ]
    },
    {
      "cell_type": "code",
      "metadata": {
        "id": "H6quYGB8qO-_"
      },
      "source": [
        "import os\n",
        "import sys\n",
        "import argparse\n",
        "import numpy as np\n",
        "import matplotlib.pyplot as plt\n",
        "from sklearn import datasets"
      ],
      "execution_count": 194,
      "outputs": []
    },
    {
      "cell_type": "markdown",
      "metadata": {
        "id": "QDBS8oCilemg"
      },
      "source": [
        "Now we need to load our dataset from sklearn as follows:"
      ]
    },
    {
      "cell_type": "code",
      "metadata": {
        "id": "LwtY_zPiib8H"
      },
      "source": [
        "# load the diabetes dataset\n",
        "X, y = datasets.load_diabetes(return_X_y = True)\n",
        "#X = datasets.load_diabetes(return_X_y = False)"
      ],
      "execution_count": 195,
      "outputs": []
    },
    {
      "cell_type": "code",
      "metadata": {
        "colab": {
          "base_uri": "https://localhost:8080/"
        },
        "id": "9aqN0zQ_xCQi",
        "outputId": "5e9c9992-c382-40f4-9417-7bbf7186840e"
      },
      "source": [
        "print(\"The number of samples in the dataset is {}\".format(len(X)))"
      ],
      "execution_count": 196,
      "outputs": [
        {
          "output_type": "stream",
          "name": "stdout",
          "text": [
            "The number of samples in the dataset is 442\n"
          ]
        }
      ]
    },
    {
      "cell_type": "code",
      "metadata": {
        "colab": {
          "base_uri": "https://localhost:8080/"
        },
        "id": "rWYIfNfyw682",
        "outputId": "9b1fcd94-2432-47e9-be72-e2acecd5ebe3"
      },
      "source": [
        "print(\"The number of features is {}\".format(len(X[0])))"
      ],
      "execution_count": 197,
      "outputs": [
        {
          "output_type": "stream",
          "name": "stdout",
          "text": [
            "The number of features is 10\n"
          ]
        }
      ]
    },
    {
      "cell_type": "markdown",
      "metadata": {
        "id": "OozlV1PHLKnW"
      },
      "source": [
        "### Understanding the database\n",
        "This dataset consists of the following:\n",
        "First 10 columns (**X**) are numeric predictive values:\n",
        "\n",
        "* age age in years\n",
        "* sex\n",
        "* bmi body mass index\n",
        "* bp average blood pressure\n",
        "* s1 tc, total serum cholesterol\n",
        "* s2 ldl, low-density lipoproteins\n",
        "* s3 hdl, high-density lipoproteins\n",
        "* s4 tch, total cholesterol / HDL\n",
        "* s5 ltg, possibly log of serum triglycerides level\n",
        "* s6 glu, blood sugar level\n",
        "\n",
        "Column 11 (**y**) is a quantitative measure of disease progression one year after baseline"
      ]
    },
    {
      "cell_type": "code",
      "source": [
        "print(X[:5])"
      ],
      "metadata": {
        "id": "8Mu1SrDBgW7i",
        "outputId": "f33f7201-4f06-4287-dc75-24592d2d695e",
        "colab": {
          "base_uri": "https://localhost:8080/"
        }
      },
      "execution_count": 198,
      "outputs": [
        {
          "output_type": "stream",
          "name": "stdout",
          "text": [
            "[[ 0.03807591  0.05068012  0.06169621  0.02187239 -0.0442235  -0.03482076\n",
            "  -0.04340085 -0.00259226  0.01990749 -0.01764613]\n",
            " [-0.00188202 -0.04464164 -0.05147406 -0.02632753 -0.00844872 -0.01916334\n",
            "   0.07441156 -0.03949338 -0.06833155 -0.09220405]\n",
            " [ 0.08529891  0.05068012  0.04445121 -0.00567042 -0.04559945 -0.03419447\n",
            "  -0.03235593 -0.00259226  0.00286131 -0.02593034]\n",
            " [-0.08906294 -0.04464164 -0.01159501 -0.03665608  0.01219057  0.02499059\n",
            "  -0.03603757  0.03430886  0.02268774 -0.00936191]\n",
            " [ 0.00538306 -0.04464164 -0.03638469  0.02187239  0.00393485  0.01559614\n",
            "   0.00814208 -0.00259226 -0.03198764 -0.04664087]]\n"
          ]
        }
      ]
    },
    {
      "cell_type": "markdown",
      "metadata": {
        "id": "mJjEaoq931J3"
      },
      "source": [
        "Let's plot the Disease progression versus the BMI.\n"
      ]
    },
    {
      "cell_type": "code",
      "metadata": {
        "colab": {
          "base_uri": "https://localhost:8080/",
          "height": 467
        },
        "id": "gFaqqH_syic0",
        "outputId": "12bdb047-afa5-466a-8063-27aeb40eb427"
      },
      "source": [
        "plt.scatter(X[:,np.newaxis, 2], y, marker='+')\n",
        "plt.xlabel(\"Body Mass Index\")\n",
        "plt.ylabel(\"Disease Progression\")"
      ],
      "execution_count": 199,
      "outputs": [
        {
          "output_type": "execute_result",
          "data": {
            "text/plain": [
              "Text(0, 0.5, 'Disease Progression')"
            ]
          },
          "metadata": {},
          "execution_count": 199
        },
        {
          "output_type": "display_data",
          "data": {
            "text/plain": [
              "<Figure size 640x480 with 1 Axes>"
            ],
            "image/png": "[encoded data removed]"
          },
          "metadata": {}
        }
      ]
    },
    {
      "cell_type": "markdown",
      "metadata": {
        "id": "7btgmXE7vP8r"
      },
      "source": [
        "### Splitting the database into training and testing sets\n",
        "\n",
        "Let's now split the data into training/testing sets. We want to take 50 samples for the test test, and the rest will go to the training set.\n",
        "Hint: You can use ``X[a:b]`` to split the data"
      ]
    },
    {
      "cell_type": "code",
      "metadata": {
        "colab": {
          "base_uri": "https://localhost:8080/"
        },
        "id": "lLM9Ra1kuwkb",
        "outputId": "e495f179-3c29-421c-b041-a867622a5f51"
      },
      "source": [
        "# Split the data: X\n",
        "X_train = X[:392] # TODO: Split the data and put 392 samples in the training set\n",
        "X_test = X[392:] # TODO: Split the data and put 50 samples in the test set\n",
        "\n",
        "# Split the target: y\n",
        "y_train = y[:392] # TODO: Split the data and put 392 samples in the training set\n",
        "y_test = y[392:] # TODO: Split the data and put 50 samples in the test set\n",
        "\n",
        "print(\"The size of the training data is {}\".format(len(X_train)))\n",
        "print(\"The size of the test data is {}\".format(len(X_test)))"
      ],
      "execution_count": 200,
      "outputs": [
        {
          "output_type": "stream",
          "name": "stdout",
          "text": [
            "The size of the training data is 392\n",
            "The size of the test data is 50\n"
          ]
        }
      ]
    },
    {
      "cell_type": "code",
      "source": [
        "print(X_train)"
      ],
      "metadata": {
        "id": "KYa15G-UrYln",
        "outputId": "533205b2-faae-4a71-ae51-87f10f74e05b",
        "colab": {
          "base_uri": "https://localhost:8080/"
        }
      },
      "execution_count": 201,
      "outputs": [
        {
          "output_type": "stream",
          "name": "stdout",
          "text": [
            "[[ 0.03807591  0.05068012  0.06169621 ... -0.00259226  0.01990749\n",
            "  -0.01764613]\n",
            " [-0.00188202 -0.04464164 -0.05147406 ... -0.03949338 -0.06833155\n",
            "  -0.09220405]\n",
            " [ 0.08529891  0.05068012  0.04445121 ... -0.00259226  0.00286131\n",
            "  -0.02593034]\n",
            " ...\n",
            " [-0.00551455  0.05068012  0.00133873 ... -0.03949338 -0.04117617\n",
            "  -0.08806194]\n",
            " [ 0.0090156   0.05068012  0.06924089 ...  0.03430886  0.10329702\n",
            "   0.07348023]\n",
            " [-0.02367725 -0.04464164 -0.06979687 ... -0.03949338 -0.08913335\n",
            "  -0.05078298]]\n"
          ]
        }
      ]
    },
    {
      "cell_type": "markdown",
      "metadata": {
        "id": "N20gzZmmNTro"
      },
      "source": [
        "Let's choose the BMI feature, we will only work on this feature for now.\n",
        "Hint: You can use ``X[:, a]`` to select the wanted feature"
      ]
    },
    {
      "cell_type": "code",
      "metadata": {
        "id": "1wJRXx2zNUTU"
      },
      "source": [
        "X_train = X_train[:, 1] # TODO: Select only the second feature\n",
        "X_test = X_test[:, 1] # TODO: Select only the second feature"
      ],
      "execution_count": 202,
      "outputs": []
    },
    {
      "cell_type": "code",
      "source": [
        "print(X_train)"
      ],
      "metadata": {
        "id": "Jsw7FK_pqcTW",
        "outputId": "af572965-044d-4a2e-ef32-4f51752c28e1",
        "colab": {
          "base_uri": "https://localhost:8080/"
        }
      },
      "execution_count": 203,
      "outputs": [
        {
          "output_type": "stream",
          "name": "stdout",
          "text": [
            "[ 0.05068012 -0.04464164  0.05068012 -0.04464164 -0.04464164 -0.04464164\n",
            "  0.05068012  0.05068012  0.05068012 -0.04464164 -0.04464164  0.05068012\n",
            " -0.04464164  0.05068012 -0.04464164  0.05068012 -0.04464164  0.05068012\n",
            " -0.04464164 -0.04464164 -0.04464164  0.05068012 -0.04464164  0.05068012\n",
            " -0.04464164  0.05068012 -0.04464164 -0.04464164 -0.04464164  0.05068012\n",
            " -0.04464164 -0.04464164  0.05068012 -0.04464164 -0.04464164  0.05068012\n",
            " -0.04464164 -0.04464164  0.05068012  0.05068012  0.05068012 -0.04464164\n",
            "  0.05068012 -0.04464164  0.05068012  0.05068012 -0.04464164 -0.04464164\n",
            "  0.05068012  0.05068012 -0.04464164  0.05068012 -0.04464164 -0.04464164\n",
            " -0.04464164 -0.04464164 -0.04464164 -0.04464164 -0.04464164  0.05068012\n",
            " -0.04464164  0.05068012  0.05068012 -0.04464164  0.05068012  0.05068012\n",
            "  0.05068012  0.05068012  0.05068012 -0.04464164 -0.04464164 -0.04464164\n",
            "  0.05068012  0.05068012  0.05068012  0.05068012  0.05068012 -0.04464164\n",
            " -0.04464164 -0.04464164 -0.04464164  0.05068012 -0.04464164 -0.04464164\n",
            " -0.04464164 -0.04464164  0.05068012 -0.04464164  0.05068012 -0.04464164\n",
            " -0.04464164 -0.04464164 -0.04464164 -0.04464164 -0.04464164 -0.04464164\n",
            "  0.05068012 -0.04464164  0.05068012 -0.04464164 -0.04464164  0.05068012\n",
            " -0.04464164  0.05068012 -0.04464164  0.05068012 -0.04464164 -0.04464164\n",
            "  0.05068012  0.05068012  0.05068012 -0.04464164 -0.04464164  0.05068012\n",
            " -0.04464164  0.05068012  0.05068012 -0.04464164  0.05068012 -0.04464164\n",
            " -0.04464164 -0.04464164  0.05068012  0.05068012 -0.04464164  0.05068012\n",
            " -0.04464164  0.05068012 -0.04464164 -0.04464164  0.05068012 -0.04464164\n",
            "  0.05068012  0.05068012 -0.04464164 -0.04464164 -0.04464164 -0.04464164\n",
            "  0.05068012 -0.04464164  0.05068012 -0.04464164  0.05068012 -0.04464164\n",
            "  0.05068012 -0.04464164  0.05068012 -0.04464164  0.05068012  0.05068012\n",
            " -0.04464164 -0.04464164  0.05068012  0.05068012  0.05068012  0.05068012\n",
            " -0.04464164  0.05068012 -0.04464164 -0.04464164 -0.04464164  0.05068012\n",
            " -0.04464164  0.05068012 -0.04464164 -0.04464164  0.05068012 -0.04464164\n",
            "  0.05068012 -0.04464164  0.05068012 -0.04464164  0.05068012  0.05068012\n",
            "  0.05068012 -0.04464164  0.05068012 -0.04464164 -0.04464164 -0.04464164\n",
            "  0.05068012 -0.04464164  0.05068012  0.05068012 -0.04464164  0.05068012\n",
            "  0.05068012 -0.04464164 -0.04464164 -0.04464164 -0.04464164  0.05068012\n",
            "  0.05068012  0.05068012 -0.04464164  0.05068012 -0.04464164  0.05068012\n",
            " -0.04464164 -0.04464164 -0.04464164  0.05068012  0.05068012  0.05068012\n",
            "  0.05068012 -0.04464164  0.05068012 -0.04464164 -0.04464164  0.05068012\n",
            " -0.04464164 -0.04464164 -0.04464164 -0.04464164 -0.04464164  0.05068012\n",
            "  0.05068012 -0.04464164 -0.04464164 -0.04464164  0.05068012 -0.04464164\n",
            "  0.05068012 -0.04464164 -0.04464164  0.05068012  0.05068012  0.05068012\n",
            " -0.04464164  0.05068012  0.05068012 -0.04464164  0.05068012 -0.04464164\n",
            " -0.04464164  0.05068012 -0.04464164 -0.04464164  0.05068012 -0.04464164\n",
            "  0.05068012  0.05068012  0.05068012  0.05068012  0.05068012 -0.04464164\n",
            " -0.04464164 -0.04464164 -0.04464164 -0.04464164 -0.04464164  0.05068012\n",
            " -0.04464164 -0.04464164  0.05068012 -0.04464164 -0.04464164  0.05068012\n",
            "  0.05068012 -0.04464164 -0.04464164 -0.04464164  0.05068012  0.05068012\n",
            "  0.05068012  0.05068012  0.05068012 -0.04464164  0.05068012 -0.04464164\n",
            "  0.05068012  0.05068012 -0.04464164  0.05068012 -0.04464164  0.05068012\n",
            " -0.04464164 -0.04464164  0.05068012  0.05068012  0.05068012  0.05068012\n",
            " -0.04464164 -0.04464164  0.05068012 -0.04464164 -0.04464164 -0.04464164\n",
            "  0.05068012  0.05068012  0.05068012 -0.04464164 -0.04464164 -0.04464164\n",
            "  0.05068012  0.05068012 -0.04464164 -0.04464164  0.05068012  0.05068012\n",
            " -0.04464164  0.05068012 -0.04464164 -0.04464164  0.05068012  0.05068012\n",
            "  0.05068012  0.05068012 -0.04464164  0.05068012 -0.04464164 -0.04464164\n",
            " -0.04464164  0.05068012 -0.04464164 -0.04464164  0.05068012 -0.04464164\n",
            " -0.04464164 -0.04464164 -0.04464164 -0.04464164  0.05068012  0.05068012\n",
            " -0.04464164 -0.04464164  0.05068012 -0.04464164 -0.04464164  0.05068012\n",
            "  0.05068012  0.05068012 -0.04464164  0.05068012  0.05068012 -0.04464164\n",
            " -0.04464164  0.05068012 -0.04464164 -0.04464164 -0.04464164  0.05068012\n",
            "  0.05068012 -0.04464164 -0.04464164  0.05068012  0.05068012  0.05068012\n",
            " -0.04464164  0.05068012  0.05068012  0.05068012  0.05068012 -0.04464164\n",
            "  0.05068012  0.05068012  0.05068012  0.05068012 -0.04464164  0.05068012\n",
            " -0.04464164 -0.04464164  0.05068012  0.05068012  0.05068012 -0.04464164\n",
            "  0.05068012  0.05068012  0.05068012 -0.04464164 -0.04464164  0.05068012\n",
            "  0.05068012 -0.04464164 -0.04464164  0.05068012 -0.04464164  0.05068012\n",
            "  0.05068012 -0.04464164 -0.04464164  0.05068012 -0.04464164  0.05068012\n",
            "  0.05068012  0.05068012 -0.04464164 -0.04464164  0.05068012  0.05068012\n",
            "  0.05068012 -0.04464164]\n"
          ]
        }
      ]
    },
    {
      "cell_type": "markdown",
      "metadata": {
        "id": "usahbmvd5ob1"
      },
      "source": [
        "## Start implementing the functions\n",
        "In this section, we are going to implement the functions to build our linear regression model from scratch."
      ]
    },
    {
      "cell_type": "markdown",
      "metadata": {
        "id": "9LZ7qqI-55ZV"
      },
      "source": [
        "### The hypothesis function $h_\\theta(x)$\n",
        "We are going to implement a function that calculates the hypothesis $h$ given the set of parameters $\\theta4 and a single $x$.\n",
        "\n",
        "The univariate linear hypothesis :$h_\\theta(x)$ is defined as:\n",
        "\n",
        "$h_\\theta(x) = \\theta_0 + \\theta_1 x$\n",
        "  \n",
        "The parameters are:\n",
        "\n",
        "* **X**: A vector (, list or tuple) containing all observations for the input variable\n",
        "* **theta**: A vector (,list or tuple) with two positions with the values of $\\theta_0$ and $\\theta_1$, in this order.\n",
        "\n",
        "The function returns the estimated value for y (1 float number).\n",
        "\n",
        "  "
      ]
    },
    {
      "cell_type": "markdown",
      "metadata": {
        "id": "fAN7OSPFGm_w"
      },
      "source": [
        "**Hint**:  Use ``theta[0]`` to access $\\theta_0$"
      ]
    },
    {
      "cell_type": "code",
      "metadata": {
        "id": "A_B7v2Zk5lVt"
      },
      "source": [
        "def h(x, theta):\n",
        "  # TODO: implement the function that returns h, given x and theta.\n",
        "  h = theta[0] + (theta[1]*x)\n",
        "  return h"
      ],
      "execution_count": 204,
      "outputs": []
    },
    {
      "cell_type": "code",
      "source": [
        "h(1.0, [0.5, 0.5])"
      ],
      "metadata": {
        "id": "XW3AdGuGvvsU",
        "outputId": "daeec3bd-db02-4914-ea41-b2c57bd83b7d",
        "colab": {
          "base_uri": "https://localhost:8080/"
        }
      },
      "execution_count": 205,
      "outputs": [
        {
          "output_type": "execute_result",
          "data": {
            "text/plain": [
              "1.0"
            ]
          },
          "metadata": {},
          "execution_count": 205
        }
      ]
    },
    {
      "cell_type": "markdown",
      "metadata": {
        "id": "vWOXGTLQ7PhO"
      },
      "source": [
        "\n",
        "### The cost $J$\n",
        "Now we are going to implement the (unvectorized) cost $J$ for the univariate linear regression model given X, y and $\\theta$.\n",
        "  The cost for the linear regression model is defined as:\n",
        "  \n",
        "  $J(\\theta_0, \\theta_1) = \\frac{1}{2n}\\sum_{i=0}^{n-1} \\Big(h_\\theta(x^{(i)}) - y^{(i)}\\Big)^2$\n",
        "\n",
        "The parameters are:\n",
        "\n",
        "\n",
        "*   **X**: A vector (, list or tuple) containing all observations for the input variable\n",
        "*   **y**: A vector (, list or tuple) containing all expected values for the output variable\n",
        "*  **theta**: A vector (,list or tuple) with two positions with the values of $\\theta_0$ and $\\theta_1$, in this order.\n",
        "\n",
        "The function returns the cost for the current input set given the (linear) model.\n",
        "\n",
        "\n"
      ]
    },
    {
      "cell_type": "code",
      "metadata": {
        "id": "Pi33Webj7P5s"
      },
      "source": [
        "def J(X, y, theta):\n",
        "  J_ = 0.\n",
        "  n = len(X)\n",
        "  for i in range(n):\n",
        "    # TODO: replace the following two lines with your solution following the formula given above.\n",
        "    J_ += (h(X[i], theta) - y[i])**2\n",
        "    e_ = 0.\n",
        "    J_ += e_\n",
        "  J_ /= (2*n)\n",
        "  return J_\n"
      ],
      "execution_count": 206,
      "outputs": []
    },
    {
      "cell_type": "markdown",
      "metadata": {
        "id": "rCZChETn8eOz"
      },
      "source": [
        "### The first partial derivative of the cost function $\\frac{\\partial}{\\partial \\theta_0} J(\\theta_0, \\theta_1)$\n",
        "\n",
        "We will now compute the partial derivative of the cost function with respect to $\\theta_0$.\n",
        "\n",
        "As derived in the course, this partial derivative is:\n",
        "\n",
        "$\\frac{\\partial}{\\partial \\theta_0}J(\\theta_0, \\theta_1) = \\frac{1}{n}\\sum_{i=0}^{n-1} \\Big(h_\\theta(x^{(i)}) - y^{(i)}\\Big)$\n",
        "  \n",
        "The function parameters are:\n",
        "\n",
        "\n",
        "*   **X**: A vector (, list or tuple) containing all observations for the input variable.\n",
        "*   **y**: A vector (, list or tuple) containing all expected values for the output variable.\n",
        "* theta A vector (,list or tuple) with two positions with the values of $\\theta_0$ and $\\theta_1$, in this order.\n",
        "\n",
        "  The function returns the cost for the current input set given the (linear) model."
      ]
    },
    {
      "cell_type": "code",
      "metadata": {
        "id": "wNl4iZ5D8eFk"
      },
      "source": [
        "def dJ0(X, y, theta):\n",
        "  dJ0_ = 0\n",
        "  n = len(X)\n",
        "  for i in range(n):\n",
        "    # TODO: Replace the following line with your solution\n",
        "    dJ0_ += h(X[i], theta) - y[i]\n",
        "    dJ0_ += 0.\n",
        "  dJ0_ /= n\n",
        "  return dJ0_"
      ],
      "execution_count": 207,
      "outputs": []
    },
    {
      "cell_type": "markdown",
      "metadata": {
        "id": "mGeD4Ec18emD"
      },
      "source": [
        "### The second partial derivative of the cost function $\\frac{\\partial}{\\partial \\theta_0} J(\\theta_0, \\theta_1)$\n",
        "\n",
        "We will now compute the partial derivative of the cost function with respect to $\\theta_1$.\n",
        "\n",
        "As derived in the course, this partial derivative is:\n",
        "\n",
        "$\\frac{\\partial}{\\partial \\theta_1}J(\\theta_0, \\theta_1) = \\frac{1}{n}\\sum_{i=0}^{n-1} \\Big(h_\\theta(x^{(i)}) - y^{(i)}\\Big)x^{(i)}$\n",
        "  \n",
        "The function parameters are:\n",
        "\n",
        "\n",
        "*   **X**: A vector (, list or tuple) containing all observations for the input variable.\n",
        "*   **y**: A vector (, list or tuple) containing all expected values for the output variable.\n",
        "* theta A vector (,list or tuple) with two positions with the values of $\\theta_0$ and $\\theta_1$, in this order.\n",
        "\n",
        "  The function returns the cost for the current input set given the (linear) model."
      ]
    },
    {
      "cell_type": "code",
      "metadata": {
        "id": "picQQir_8ehC"
      },
      "source": [
        "def dJ1(X, y, theta):\n",
        "  dJ1_ = 0\n",
        "  n = len(X)\n",
        "  for i in range(n):\n",
        "    # TODO: Replace the following line with your solution\n",
        "    dJ1_ += (h(X[i], theta) - y[i])*X[i]\n",
        "    dJ1_ += 0.\n",
        "  dJ1_ /= n\n",
        "  return dJ1_"
      ],
      "execution_count": 208,
      "outputs": []
    },
    {
      "cell_type": "markdown",
      "metadata": {
        "id": "HunOSRuNFhKh"
      },
      "source": [
        "## Running the algorithm\n",
        "In this section, we are going to initialize our parameters, then run the experiment."
      ]
    },
    {
      "cell_type": "markdown",
      "metadata": {
        "id": "62jGncpJFrmg"
      },
      "source": [
        "### Initializing the paramaters\n",
        "\n",
        "Initialise the parameters using the zeros matrix from numpy.\n",
        "Note that initialising the parameters have a huge impact of the performance of your algorithm. For example, a small learning rate may not help the system learn at all, while a big learning rate may result in the divergence of the algorithm.\n",
        "\n",
        "The number of itrations is also important, we may increase the number of iterations to get better results, but we have to pay attention not to overfit our model."
      ]
    },
    {
      "cell_type": "code",
      "metadata": {
        "id": "2NKWirupEXlQ"
      },
      "source": [
        "# initial parameters\n",
        "theta = np.zeros((2,), dtype='float64')\n",
        "# Define the maximum number of iterations, you may have to tweak the number of iterations.\n",
        "max_iter = 20\n",
        "# Define the learning rate, make sure to fine tune this parameter as you test your algorithm.\n",
        "alpha = 0.01"
      ],
      "execution_count": 209,
      "outputs": []
    },
    {
      "cell_type": "markdown",
      "metadata": {
        "id": "tg0Seyt3JKkd"
      },
      "source": [
        "Let's do some testing for the hypothesis:"
      ]
    },
    {
      "cell_type": "code",
      "metadata": {
        "colab": {
          "base_uri": "https://localhost:8080/"
        },
        "id": "xnIslCJdJKZe",
        "outputId": "1f01a951-a97a-406f-e085-c613ad9bf5c4"
      },
      "source": [
        "\n",
        "print(\"Your h() function should return 1.0 =>\", h(1.0, [0.5, 0.5]))\n",
        "print(\"Your h() function should return 1.5 =>\", h(2.0, [0.5, 0.5]))\n",
        "print(\"Your h() function should return 2.0 =>\", h(3.0, [0.5, 0.5]))\n",
        "\n",
        "Jtrain = np.ndarray(max_iter+1)\n",
        "Jtest = np.ndarray(max_iter+1)\n",
        "\n",
        "Jtrain[0]= J(X_train, y_train, theta)\n",
        "Jtest[0] = J(X_test, y_test, theta)\n",
        "print('%03d/%03d: J_train = %.8e | J_devel = %8e' % (0, max_iter, Jtrain[0], Jtest[0]))"
      ],
      "execution_count": 210,
      "outputs": [
        {
          "output_type": "stream",
          "name": "stdout",
          "text": [
            "Your h() function should return 1.0 => 1.0\n",
            "Your h() function should return 1.5 => 1.5\n",
            "Your h() function should return 2.0 => 2.0\n",
            "000/020: J_train = 1.45238431e+04 | J_devel = 1.464228e+04\n"
          ]
        }
      ]
    },
    {
      "cell_type": "code",
      "source": [
        "print(Jtrain)"
      ],
      "metadata": {
        "id": "D59IqQLm0gha",
        "outputId": "6e0ed341-5778-48a9-f165-07dbd808afb1",
        "colab": {
          "base_uri": "https://localhost:8080/"
        }
      },
      "execution_count": 213,
      "outputs": [
        {
          "output_type": "stream",
          "name": "stdout",
          "text": [
            "[14523.84311224 14293.84152111 14068.41696192 13847.47835164\n",
            " 13630.93641978 13418.70367235 13210.69435646 13006.82442574\n",
            " 12807.01150634 12611.17486362 12419.2353696  12231.11547092\n",
            " 12046.73915756 11866.03193207 11688.92077953 11515.334138\n",
            " 11345.20186963 11178.45523233 11015.02685194 10854.85069509\n",
            " 10697.86204245]\n"
          ]
        }
      ]
    },
    {
      "cell_type": "code",
      "metadata": {
        "id": "IEkMtDZ1F6s-",
        "colab": {
          "base_uri": "https://localhost:8080/"
        },
        "outputId": "2ed2aaa8-9380-4e1a-8b59-9a46011ad31c"
      },
      "source": [
        "for t in range(max_iter):\n",
        "  # compute the partial derivatives (gradient)\n",
        "  dJ = [dJ0(X_train, y_train, theta), dJ1(X_train, y_train, theta)]\n",
        "  # update the parameters\n",
        "  theta -= np.array(dJ) * alpha\n",
        "\n",
        "  # compute the cost given the new parameters\n",
        "  Jtrain[t+1] = J(X_train, y_train, theta)\n",
        "  Jtest[t+1] = J(X_test, y_test, theta)\n",
        "  print('%03d/%03d: J_train = %.8e | J_test = %8e' % (t+1, max_iter, Jtrain[t+1], Jtest[t+1]))\n",
        "\n",
        "  # check for convergence: end-of-accuracy criteria on the train set\n",
        "  e_ = abs(Jtrain[t] - Jtrain[t+1])\n",
        "  if(e_ < 1e-08):\n",
        "    print(\"Convergence detected (delta J = %.5e). Stopping at iteration %d...\" % (abs(Jtrain[t] - Jtrain[t+1]), t+1))\n",
        "    break\n",
        "\n",
        "print('Result (after %d iterations):' % (t+1))\n",
        "#theta[0] = theta[0] - (theta[1]*X_mean)/X_std\n",
        "#theta[1] /= X_std\n",
        "print('Final parameters (theta): %s' % theta)"
      ],
      "execution_count": 211,
      "outputs": [
        {
          "output_type": "stream",
          "name": "stdout",
          "text": [
            "001/020: J_train = 1.42938415e+04 | J_test = 1.441100e+04\n",
            "002/020: J_train = 1.40684170e+04 | J_test = 1.418432e+04\n",
            "003/020: J_train = 1.38474784e+04 | J_test = 1.396213e+04\n",
            "004/020: J_train = 1.36309364e+04 | J_test = 1.374435e+04\n",
            "005/020: J_train = 1.34187037e+04 | J_test = 1.353089e+04\n",
            "006/020: J_train = 1.32106944e+04 | J_test = 1.332167e+04\n",
            "007/020: J_train = 1.30068244e+04 | J_test = 1.311660e+04\n",
            "008/020: J_train = 1.28070115e+04 | J_test = 1.291560e+04\n",
            "009/020: J_train = 1.26111749e+04 | J_test = 1.271858e+04\n",
            "010/020: J_train = 1.24192354e+04 | J_test = 1.252548e+04\n",
            "011/020: J_train = 1.22311155e+04 | J_test = 1.233620e+04\n",
            "012/020: J_train = 1.20467392e+04 | J_test = 1.215068e+04\n",
            "013/020: J_train = 1.18660319e+04 | J_test = 1.196885e+04\n",
            "014/020: J_train = 1.16889208e+04 | J_test = 1.179062e+04\n",
            "015/020: J_train = 1.15153341e+04 | J_test = 1.161592e+04\n",
            "016/020: J_train = 1.13452019e+04 | J_test = 1.144469e+04\n",
            "017/020: J_train = 1.11784552e+04 | J_test = 1.127686e+04\n",
            "018/020: J_train = 1.10150269e+04 | J_test = 1.111235e+04\n",
            "019/020: J_train = 1.08548507e+04 | J_test = 1.095111e+04\n",
            "020/020: J_train = 1.06978620e+04 | J_test = 1.079307e+04\n",
            "Result (after 20 iterations):\n",
            "Final parameters (theta): [27.68510732  0.06146582]\n"
          ]
        }
      ]
    },
    {
      "cell_type": "code",
      "metadata": {
        "colab": {
          "base_uri": "https://localhost:8080/",
          "height": 449
        },
        "id": "u49i_YbhLrmm",
        "outputId": "96d43859-192a-4884-8e4a-44f50df0d462"
      },
      "source": [
        "plt.plot(X_train, y_train, 'ro', label=\"train\")\n",
        "plt.plot(X_test, y_test, 'bx', label=\"test\")\n",
        "\n",
        "[x_min, x_max, y_min, y_max] = plt.axis()\n",
        "x = np.arange(x_min, x_max, (x_max-x_min)/200)\n",
        "y = [h(k, theta) for k in x]\n",
        "plt.plot(x, y, \"k-\", label=r\"y = $\\theta x$\")\n",
        "plt.xlabel(\"Body Mass Index\")\n",
        "plt.ylabel(\"Disease Progression\")\n",
        "leg = plt.legend(loc='best')\n",
        "leg.get_frame().set_alpha(0.5)\n",
        "plt.grid()\n",
        "plt.show()"
      ],
      "execution_count": 212,
      "outputs": [
        {
          "output_type": "display_data",
          "data": {
            "text/plain": [
              "<Figure size 640x480 with 1 Axes>"
            ],
            "image/png": "[encoded data removed]"
          },
          "metadata": {}
        }
      ]
    }
  ]
}